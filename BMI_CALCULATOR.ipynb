{
  "nbformat": 4,
  "nbformat_minor": 0,
  "metadata": {
    "colab": {
      "provenance": []
    },
    "kernelspec": {
      "name": "python3",
      "display_name": "Python 3"
    },
    "language_info": {
      "name": "python"
    }
  },
  "cells": [
    {
      "cell_type": "markdown",
      "source": [
        "# BMI CALCULATOR"
      ],
      "metadata": {
        "id": "IGriG5jajGUV"
      }
    },
    {
      "cell_type": "code",
      "source": [
        "print (\"Provide us with the information below: \")\n",
        "weight = float(input(\"Enter your weight:  \"))\n",
        "height = float(input(\"Enter your height: \"))\n",
        "BMI = round (weight /(height*height), 2)\n",
        "88\n",
        "print (\"============BMI results=========\")\n",
        "print (f\"Your BMI is :{BMI}\")\n",
        "\n",
        "if BMI > 25:\n",
        "    print (\"Overweight\")\n",
        "elif BMI <18:\n",
        "    print (\"Underweight\")\n",
        "else:\n",
        "    print (\"Normal\")"
      ],
      "metadata": {
        "colab": {
          "base_uri": "https://localhost:8080/"
        },
        "id": "j_q0tuD7ixSl",
        "outputId": "85ce6394-198d-41c1-ff6d-7ee05c1be300"
      },
      "execution_count": 3,
      "outputs": [
        {
          "output_type": "stream",
          "name": "stdout",
          "text": [
            "Provide us with the information below: \n",
            "Enter your weight:  88\n",
            "Enter your height: 6\n",
            "============BMI results=========\n",
            "Your BMI is :2.44\n",
            "Underweight\n"
          ]
        }
      ]
    }
  ]
}